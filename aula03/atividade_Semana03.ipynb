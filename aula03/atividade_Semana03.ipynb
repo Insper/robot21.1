{
 "cells": [
  {
   "cell_type": "markdown",
   "metadata": {},
   "source": [
    "# Entregável 3 de Visão Computacional e Robótica\n"
   ]
  },
  {
   "cell_type": "markdown",
   "metadata": {},
   "source": [
    "Entrega até 22/03"
   ]
  },
  {
   "cell_type": "markdown",
   "metadata": {},
   "source": [
    "*Importante* você vai precisar do Git LFS e do Scikit-Learn para fazer estes exercícios. No Linux já está instalado.\n",
    "\n",
    "No `conda`: \n",
    "\n",
    "    conda install -c conda-forge git-lfs\n",
    "\n",
    "    conda install -c conda-forge scikit-learn\n",
    "\n"
   ]
  },
  {
   "cell_type": "markdown",
   "metadata": {},
   "source": [
    "Vai ser feito no grupo definido *por sorteio*"
   ]
  },
  {
   "cell_type": "markdown",
   "metadata": {},
   "source": [
    "Nesta semana vamos trabalhar com um assunto extremamente atual: reconhecimento de objetos e rastreamento\n"
   ]
  },
  {
   "cell_type": "markdown",
   "metadata": {},
   "source": [
    "Referências:"
   ]
  },
  {
   "cell_type": "markdown",
   "metadata": {},
   "source": [
    "[https://www.pyimagesearch.com/2018/07/30/opencv-object-tracking/](https://www.pyimagesearch.com/2018/07/30/opencv-object-tracking/)\n",
    "\n",
    "[https://github.com/iArunava/YOLOv3-Object-Detection-with-OpenCV/](https://github.com/iArunava/YOLOv3-Object-Detection-with-OpenCV/)\n",
    "\n",
    "[https://www.pyimagesearch.com/2017/09/11/object-detection-with-deep-learning-and-opencv/](https://www.pyimagesearch.com/2017/09/11/object-detection-with-deep-learning-and-opencv/)"
   ]
  },
  {
   "cell_type": "markdown",
   "metadata": {},
   "source": [
    "Ouça a explicacão do professor sobre rastreamento e deteção"
   ]
  },
  {
   "cell_type": "code",
   "execution_count": 8,
   "metadata": {},
   "outputs": [
    {
     "name": "stdout",
     "output_type": "stream",
     "text": [
      "OpenCV Version : 4.5.1 \n",
      "Trabalhando em:  C:\\Users\\mirwo\\robot\\src\\robot21.1\\aula03\n"
     ]
    }
   ],
   "source": [
    "%matplotlib inline\n",
    "import cv2\n",
    "from matplotlib import pyplot as plt\n",
    "import numpy as np\n",
    "import time as t\n",
    "import sys\n",
    "import math\n",
    "import os\n",
    "print (\"OpenCV Version : %s \" % cv2.__version__)\n",
    "print(\"Trabalhando em: \", os.getcwd())"
   ]
  },
  {
   "cell_type": "markdown",
   "metadata": {},
   "source": [
    "### 1. Ponto de fuga"
   ]
  },
  {
   "cell_type": "markdown",
   "metadata": {},
   "source": [
    "Robôs que trabalham dentro de prédios precisam saber seguir corredores.\n",
    "\n",
    "Uma das maneiras de fazer isso é o robô alinhar o centro de sua câmera ao ponto de fuga do corredor, para que sua trajetória seja aproximadamente paralela às paredes do mesmo.\n",
    "\n",
    "\n",
    "O ponto de fuga é aquele para o qual as retas paralelas parecem convergir\n",
    "\n",
    "Dada a seguinte imagem de um corredor:\n",
    "\n",
    "![Imagem do corredor](ponto_fuga.png)\n",
    "\n",
    "Podemos traçar as linhas geradas pela perspectiva, seu ponto de encontro será o ponto de fuga.\n",
    "\n",
    "\n",
    "\n",
    "### Revisão: reta passando por dois pontos\n",
    "\n",
    "![Encontro de duas retas](retas.png)\n",
    "\n",
    "\n",
    "Seja o ponto $A:(a_x, a_y)$ e o ponto $B:(b_x, b_y)$\n",
    "\n",
    "Queremos encontrar uma reta $r: y = mx + h$ que passa por $A$ e $B$, em que $m$ é o *coeficiente angular* e $h$ é o intercepto ou coeficiente linear da reta.\n",
    "\n",
    "Temos que:\n",
    "\n",
    "$m = \\frac{\\Delta_y}{\\Delta_x} = \\frac{b_y - a_y}{b_x - a_x}$\n",
    "\n",
    "Uma vez encontrado o valor de $m$, a substituição a seguir permite encontrar a equação da reta:\n",
    "\n",
    "$m = \\frac{y - a_y}{x - a_x}$\n",
    "\n",
    "$mx - ma_x = y - a_y$\n",
    "\n",
    "$mx = y - a_y + ma_x$\n",
    "\n",
    "$y = mx -ma_x + a_y$\n",
    "\n",
    "$h = a_y - ma_x$\n",
    "\n",
    "\n",
    "$y = mx - ma_x + a_y$\n",
    "\n",
    "### Interseção de duas retas\n",
    "\n",
    "Temos que na interseção as duas retas se encontram num ponto $(x_i, y_i)$\n",
    "\n",
    "Sejam as retas $r1: y = m1x + h1$ e $r2: y = m2x + h2$\n",
    "\n",
    "Vamos encontrar o ponto $x_i$ em que os valores de $y_i$ serão iguais:\n",
    "\n",
    "$m1x_i + h1 = m2x_i + h2$\n",
    "\n",
    "$(m1 - m2)x_i = h2 - h1$\n",
    "\n",
    "$x_i = \\frac{h2 - h1}{m1 - m2}$\n",
    "\n",
    "$y_i = m1x_i + h1$\n",
    "\n",
    "**Dados de teste:**\n",
    "\n",
    "Caso precise testar seu código, você pode conferir com estes valores. As retas definidas por pontos $r1: (P_1, P_2)$ e $r2: (Q_1, Q_2)$, para os valores:\n",
    "\n",
    "```python\n",
    "\n",
    "p1 = (3.0, 2.5)\n",
    "p2 = (4.0, 0.6)\n",
    "q1 = (1.0, 2.4)\n",
    "q2 = (0.6, 1.1)\n",
    "```\n",
    "\n",
    "Encontram-se no ponto `(1.7572 4.8611)`\n",
    "\n",
    "\n",
    "Pede-se: \n",
    "\n",
    "* A partir do ponto para onde convergem as linhas do corredor, marque o ponto de fuga no vídeo.  Você precisa mostrar as retas que vão convergir.\n",
    "\n",
    "\n",
    "**Sugestão:** \n",
    "\n",
    "A partir do coeficiente angular, selecionar uma reta mais à esquerda e uma mais à direita para encontrar a interseção.\n",
    "\n",
    "Lembre-se de que na OpenCV o eixo y fica **para baixo**, por isso os coeficientes angulares se comportam como na figura abaixo:\n",
    "\n",
    "![Valores de coeficiente angular](coeficientes_m.png)\n",
    "\n",
    "Lembre-se de que, no espaço de cores HSV, o vermelho se encontra no início e no fim da escala do componente H. Se você estiver filtrando vermelho em um só dos extremos pode não ter bons resultados"
   ]
  },
  {
   "cell_type": "markdown",
   "metadata": {},
   "source": [
    "Vídeo para teste:\n",
    "\n",
    "\n",
    "[Vídeo de line following](https://github.com/Insper/robot21.1/blob/main/aula03/line_following.mp4)\n"
   ]
  },
  {
   "cell_type": "markdown",
   "metadata": {},
   "source": [
    "### 2. Executar o exemplo de rede neural\n",
    "\n",
    "Há três exemplos: `mobilenet_detection`, `yolov3_detection` e `tracking`.\n",
    "\n",
    "\n",
    "Execute apenas o exemplo `object_detection_webcam.py`  que está na pasta `mobilenet_detection`\n",
    "\n",
    "Depois de rodar o demos, estude o notebook  [Demo_Imagenet.ipynb](Demo_Imagenet.ipynb)"
   ]
  },
  {
   "cell_type": "markdown",
   "metadata": {},
   "source": [
    "## 3. Detectar vacas em perigo"
   ]
  },
  {
   "cell_type": "markdown",
   "metadata": {},
   "source": [
    "\n",
    "Você deve detectar se há uma situação de perigo ou não perigo para as vacas.\n",
    "\n",
    "Perigo\n",
    "<img src=\"perigo.jpg\" width=50%></img>\n",
    "\n",
    "Não perigo\n",
    "<img src=\"nao_perigo.jpg\" width=50%></img>\n",
    "\n",
    "\n",
    "\n",
    "#### Orientações\n",
    "\n",
    "É uma situação de perigo quando: \n",
    "* Há mais lobos do que vacas\n",
    "* As vacas estão contidas na bounding box dos lobos, conforme as figuras\n",
    "\n",
    "Considere que toda detecção de `dog`, `horse`  e `sheep` também será de lobos.\n",
    "\n",
    "\n",
    "\n",
    "Baixe o vídeo [ cow_wolf.mp4 neste endereço](Baixe o arquivo em https://github.com/Insper/robot20/blob/master/media/cow_wolf.mp4)\n"
   ]
  },
  {
   "cell_type": "markdown",
   "metadata": {},
   "source": [
    "Implemente a seguinte funcionalidade: sempre que o objeto identificado em (2) estiver presente por mais que 5 frames seguidos, desenhe um retângulo fixo ao redor dele. "
   ]
  },
  {
   "cell_type": "markdown",
   "metadata": {},
   "source": [
    "# 4. Aproximar faixa amarela por uma reta e direção"
   ]
  },
  {
   "cell_type": "markdown",
   "metadata": {},
   "source": [
    "Você deve:\n",
    "aproximar a faixa amarela do centro da pista por uma única reta\n",
    "\n",
    "Para isso sugerimos que faça uma *regressão*  das coordenadas de onde os pixels são amarelos\n",
    "\n",
    "Em seguida use este resultado para também esterçar o robô"
   ]
  },
  {
   "cell_type": "code",
   "execution_count": 3,
   "metadata": {},
   "outputs": [],
   "source": [
    "frames = \"\"\"frame0004.png  frame0476.png  frame1076.png  frame4256.png  frame5832.png  frame6928.png\n",
    "frame0160.png  frame0916.png  frame4164.png  frame4624.png  frame5868.png\"\"\""
   ]
  },
  {
   "cell_type": "code",
   "execution_count": 5,
   "metadata": {},
   "outputs": [],
   "source": [
    "frames = frames.split()"
   ]
  },
  {
   "cell_type": "code",
   "execution_count": 15,
   "metadata": {},
   "outputs": [],
   "source": [
    "import os.path\n",
    "bgr_frames = [cv2.imread(os.path.join(\"yellow_lane\",f)) for f in frames]"
   ]
  },
  {
   "cell_type": "code",
   "execution_count": 17,
   "metadata": {},
   "outputs": [],
   "source": [
    "rgb_frames = [cv2.cvtColor(f, cv2.COLOR_BGR2RGB) for f in bgr_frames]"
   ]
  },
  {
   "cell_type": "code",
   "execution_count": 18,
   "metadata": {},
   "outputs": [
    {
     "data": {
      "text/plain": [
       "<matplotlib.image.AxesImage at 0x20bddc6f430>"
      ]
     },
     "execution_count": 18,
     "metadata": {},
     "output_type": "execute_result"
    },
    {
     "data": {
      "image/png": "[encoded data removed]",
      "text/plain": [
       "<Figure size 432x288 with 1 Axes>"
      ]
     },
     "metadata": {
      "needs_background": "light"
     },
     "output_type": "display_data"
    }
   ],
   "source": [
    "plt.imshow(rgb_frames[0])"
   ]
  },
  {
   "cell_type": "code",
   "execution_count": null,
   "metadata": {},
   "outputs": [],
   "source": []
  }
 ],
 "metadata": {
  "kernelspec": {
   "display_name": "Python 3",
   "language": "python",
   "name": "python3"
  },
  "language_info": {
   "codemirror_mode": {
    "name": "ipython",
    "version": 3
   },
   "file_extension": ".py",
   "mimetype": "text/x-python",
   "name": "python",
   "nbconvert_exporter": "python",
   "pygments_lexer": "ipython3",
   "version": "3.9.2"
  }
 },
 "nbformat": 4,
 "nbformat_minor": 4
}
